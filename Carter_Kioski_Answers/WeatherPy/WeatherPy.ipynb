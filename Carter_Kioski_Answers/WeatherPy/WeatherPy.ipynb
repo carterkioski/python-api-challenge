{
 "cells": [
  {
   "cell_type": "markdown",
   "metadata": {},
   "source": [
    "# WeatherPy\n",
    "----\n",
    "\n",
    "#### Note\n",
    "* Instructions have been included for each segment. You do not have to follow them exactly, but they are included to help you think through the steps."
   ]
  },
  {
   "cell_type": "code",
   "execution_count": 28,
   "metadata": {
    "scrolled": true
   },
   "outputs": [],
   "source": [
    "# Dependencies and Setup\n",
    "import matplotlib.pyplot as plt\n",
    "import pandas as pd\n",
    "import numpy as np\n",
    "import requests\n",
    "import time\n",
    "from scipy.stats import linregress\n",
    "\n",
    "# Import API key\n",
    "from api_keys import weather_api_key\n",
    "\n",
    "# Incorporated citipy to determine city based on latitude and longitude\n",
    "from citipy import citipy\n",
    "\n",
    "# Output File (CSV)\n",
    "output_data_file = \"../output_data/cities.csv\"\n",
    "\n",
    "# Range of latitudes and longitudes\n",
    "lat_range = (-90, 90)\n",
    "lng_range = (-180, 180)"
   ]
  },
  {
   "cell_type": "markdown",
   "metadata": {},
   "source": [
    "## Generate Cities List"
   ]
  },
  {
   "cell_type": "code",
   "execution_count": 29,
   "metadata": {},
   "outputs": [
    {
     "data": {
      "text/plain": [
       "613"
      ]
     },
     "execution_count": 29,
     "metadata": {},
     "output_type": "execute_result"
    }
   ],
   "source": [
    "# List for holding lat_lngs and cities\n",
    "lat_lngs = []\n",
    "cities = []\n",
    "\n",
    "# Create a set of random lat and lng combinations\n",
    "lats = np.random.uniform(lat_range[0], lat_range[1], size=1500)\n",
    "lngs = np.random.uniform(lng_range[0], lng_range[1], size=1500)\n",
    "lat_lngs = zip(lats, lngs)\n",
    "\n",
    "# Identify nearest city for each lat, lng combination\n",
    "for lat_lng in lat_lngs:\n",
    "    city = citipy.nearest_city(lat_lng[0], lat_lng[1]).city_name\n",
    "    \n",
    "    # If the city is unique, then add it to a our cities list\n",
    "    if city not in cities:\n",
    "        cities.append(city)\n",
    "\n",
    "# Print the city count to confirm sufficient count\n",
    "len(cities)"
   ]
  },
  {
   "cell_type": "markdown",
   "metadata": {},
   "source": [
    "### Perform API Calls\n",
    "* Perform a weather check on each city using a series of successive API calls.\n",
    "* Include a print log of each city as it'sbeing processed (with the city number and city name).\n"
   ]
  },
  {
   "cell_type": "code",
   "execution_count": 42,
   "metadata": {
    "scrolled": true
   },
   "outputs": [
    {
     "data": {
      "text/plain": [
       "81.09"
      ]
     },
     "execution_count": 42,
     "metadata": {},
     "output_type": "execute_result"
    }
   ],
   "source": [
    "url = f'http://api.openweathermap.org/data/2.5/weather?q=butaritari&appid={weather_api_key}&units=imperial'\n",
    "res = requests.get(url).json()\n",
    "res['main']['temp_max']\n"
   ]
  },
  {
   "cell_type": "code",
   "execution_count": 43,
   "metadata": {
    "scrolled": true
   },
   "outputs": [
    {
     "name": "stdout",
     "output_type": "stream",
     "text": [
      "Processing Record 1 of Set 1 | mataura\n",
      "Processing Record 2 of Set 1 | georgetown\n",
      "Processing Record 3 of Set 1 | itarema\n",
      "Processing Record 4 of Set 1 | qaanaaq\n",
      "Processing Record 5 of Set 1 | touros\n",
      "Processing Record 6 of Set 1 | cherskiy\n",
      "Processing Record 7 of Set 1 | severo-kurilsk\n",
      "Processing Record 8 of Set 1 | carnarvon\n",
      "Processing Record 9 of Set 1 | grindavik\n",
      "Processing Record 10 of Set 1 | yamada\n",
      "Processing Record 11 of Set 1 | viedma\n",
      "Processing Record 12 of Set 1 | kiunga\n",
      "Processing Record 13 of Set 1 | botro\n",
      "Processing Record 14 of Set 1 | albany\n",
      "Processing Record 15 of Set 1 | neuquen\n",
      "Processing Record 16 of Set 1 | bredasdorp\n",
      "Processing Record 17 of Set 1 | bluff\n",
      "Processing Record 18 of Set 1 | rikitea\n",
      "Processing Record 19 of Set 1 | tilichiki\n",
      "Processing Record 20 of Set 1 | malindi\n",
      "Processing Record 21 of Set 1 | iquique\n",
      "Processing Record 22 of Set 1 | sao filipe\n",
      "Processing Record 23 of Set 1 | fort saint james\n",
      "Processing Record 24 of Set 1 | rosarito\n",
      "Processing Record 25 of Set 1 | tuktoyaktuk\n",
      "Processing Record 26 of Set 1 | cateel\n",
      "Processing Record 27 of Set 1 | rach gia\n",
      "Processing Record 28 of Set 1 | prince rupert\n",
      "Processing Record 29 of Set 1 | burica\n",
      "City not found. Skipping..\n",
      "Processing Record 30 of Set 1 | millinocket\n",
      "Processing Record 31 of Set 1 | ushuaia\n",
      "Processing Record 32 of Set 1 | nanning\n",
      "Processing Record 33 of Set 1 | kupang\n",
      "Processing Record 34 of Set 1 | saint-philippe\n",
      "Processing Record 35 of Set 1 | tasiilaq\n",
      "Processing Record 36 of Set 1 | cape town\n",
      "Processing Record 37 of Set 1 | pacific grove\n",
      "Processing Record 38 of Set 1 | ponta do sol\n",
      "Processing Record 39 of Set 1 | nakusp\n",
      "Processing Record 40 of Set 1 | linxia\n",
      "Processing Record 41 of Set 1 | bethel\n",
      "Processing Record 42 of Set 1 | noumea\n",
      "Processing Record 43 of Set 1 | devyatka\n",
      "City not found. Skipping..\n",
      "Processing Record 44 of Set 1 | pimentel\n",
      "Processing Record 45 of Set 1 | hermanus\n",
      "Processing Record 46 of Set 1 | venezuela\n",
      "Processing Record 47 of Set 1 | moba\n",
      "Processing Record 48 of Set 1 | punta arenas\n",
      "Processing Record 49 of Set 1 | arraial do cabo\n",
      "Processing Record 50 of Set 1 | mar del plata\n",
      "Processing Record 1 of Set 2 | avarua\n",
      "Processing Record 2 of Set 2 | butaritari\n",
      "Processing Record 3 of Set 2 | vaitupu\n",
      "City not found. Skipping..\n",
      "Processing Record 4 of Set 2 | illoqqortoormiut\n",
      "City not found. Skipping..\n",
      "Processing Record 5 of Set 2 | ngukurr\n",
      "City not found. Skipping..\n",
      "Processing Record 6 of Set 2 | sentyabrskiy\n",
      "City not found. Skipping..\n",
      "Processing Record 7 of Set 2 | kendari\n",
      "Processing Record 8 of Set 2 | madimba\n",
      "Processing Record 9 of Set 2 | amderma\n",
      "City not found. Skipping..\n",
      "Processing Record 10 of Set 2 | kodiak\n",
      "Processing Record 11 of Set 2 | lindi\n",
      "Processing Record 12 of Set 2 | port elizabeth\n",
      "Processing Record 13 of Set 2 | pitimbu\n",
      "Processing Record 14 of Set 2 | priladozhskiy\n",
      "Processing Record 15 of Set 2 | kloulklubed\n",
      "Processing Record 16 of Set 2 | attawapiskat\n",
      "City not found. Skipping..\n",
      "Processing Record 17 of Set 2 | busselton\n",
      "Processing Record 18 of Set 2 | coahuayana\n",
      "Processing Record 19 of Set 2 | miri\n",
      "Processing Record 20 of Set 2 | talnakh\n",
      "Processing Record 21 of Set 2 | faro\n",
      "Processing Record 22 of Set 2 | prijepolje\n",
      "Processing Record 23 of Set 2 | chuy\n",
      "Processing Record 24 of Set 2 | akdepe\n",
      "Processing Record 25 of Set 2 | bajo baudo\n",
      "City not found. Skipping..\n",
      "Processing Record 26 of Set 2 | yellowknife\n",
      "Processing Record 27 of Set 2 | huancavelica\n",
      "Processing Record 28 of Set 2 | caravelas\n",
      "Processing Record 29 of Set 2 | coos bay\n",
      "Processing Record 30 of Set 2 | bambous virieux\n",
      "Processing Record 31 of Set 2 | tual\n",
      "Processing Record 32 of Set 2 | provideniya\n",
      "Processing Record 33 of Set 2 | chokurdakh\n",
      "Processing Record 34 of Set 2 | new norfolk\n",
      "Processing Record 35 of Set 2 | vostok\n",
      "Processing Record 36 of Set 2 | lagoa\n",
      "Processing Record 37 of Set 2 | rondonopolis\n",
      "Processing Record 38 of Set 2 | vanavara\n",
      "Processing Record 39 of Set 2 | mys shmidta\n",
      "City not found. Skipping..\n",
      "Processing Record 40 of Set 2 | puerto ayora\n",
      "Processing Record 41 of Set 2 | winnemucca\n",
      "Processing Record 42 of Set 2 | micheweni\n",
      "Processing Record 43 of Set 2 | tsihombe\n",
      "City not found. Skipping..\n",
      "Processing Record 44 of Set 2 | saskylakh\n",
      "Processing Record 45 of Set 2 | belushya guba\n",
      "City not found. Skipping..\n",
      "Processing Record 46 of Set 2 | xuddur\n",
      "Processing Record 47 of Set 2 | los llanos de aridane\n",
      "Processing Record 48 of Set 2 | wailuku\n",
      "Processing Record 49 of Set 2 | dunedin\n",
      "Processing Record 50 of Set 2 | kavieng\n",
      "Processing Record 1 of Set 3 | narsaq\n",
      "Processing Record 2 of Set 3 | kaitangata\n",
      "Processing Record 3 of Set 3 | hobart\n",
      "Processing Record 4 of Set 3 | sola\n",
      "Processing Record 5 of Set 3 | ilulissat\n",
      "Processing Record 6 of Set 3 | jamestown\n",
      "Processing Record 7 of Set 3 | lavrentiya\n",
      "Processing Record 8 of Set 3 | pringsewu\n",
      "Processing Record 9 of Set 3 | nesterov\n",
      "Processing Record 10 of Set 3 | grand river south east\n",
      "City not found. Skipping..\n",
      "Processing Record 11 of Set 3 | victoria\n",
      "Processing Record 12 of Set 3 | atuona\n",
      "Processing Record 13 of Set 3 | zhangye\n",
      "Processing Record 14 of Set 3 | norman wells\n",
      "Processing Record 15 of Set 3 | asfi\n",
      "Processing Record 16 of Set 3 | laa\n",
      "Processing Record 17 of Set 3 | dukat\n",
      "Processing Record 18 of Set 3 | tadine\n",
      "Processing Record 19 of Set 3 | eyl\n",
      "Processing Record 20 of Set 3 | barrow\n",
      "Processing Record 21 of Set 3 | dikson\n",
      "Processing Record 22 of Set 3 | kapaa\n",
      "Processing Record 23 of Set 3 | te anau\n",
      "Processing Record 24 of Set 3 | hambantota\n",
      "Processing Record 25 of Set 3 | nizhneyansk\n",
      "City not found. Skipping..\n",
      "Processing Record 26 of Set 3 | vaini\n",
      "Processing Record 27 of Set 3 | taolanaro\n",
      "City not found. Skipping..\n",
      "Processing Record 28 of Set 3 | broome\n",
      "Processing Record 29 of Set 3 | magadan\n",
      "Processing Record 30 of Set 3 | nome\n",
      "Processing Record 31 of Set 3 | bonavista\n",
      "Processing Record 32 of Set 3 | port blair\n",
      "Processing Record 33 of Set 3 | repnoye\n",
      "Processing Record 34 of Set 3 | porto novo\n",
      "Processing Record 35 of Set 3 | dingle\n",
      "Processing Record 36 of Set 3 | santa lucia\n",
      "Processing Record 37 of Set 3 | asau\n",
      "Processing Record 38 of Set 3 | saleaula\n",
      "City not found. Skipping..\n",
      "Processing Record 39 of Set 3 | grand gaube\n",
      "Processing Record 40 of Set 3 | kandrian\n",
      "Processing Record 41 of Set 3 | dickson\n",
      "Processing Record 42 of Set 3 | saldanha\n",
      "Processing Record 43 of Set 3 | nago\n",
      "Processing Record 44 of Set 3 | rungata\n",
      "City not found. Skipping..\n",
      "Processing Record 45 of Set 3 | hualmay\n",
      "Processing Record 46 of Set 3 | arys\n",
      "Processing Record 47 of Set 3 | lebu\n",
      "Processing Record 48 of Set 3 | hinesville\n",
      "Processing Record 49 of Set 3 | caazapa\n",
      "Processing Record 50 of Set 3 | east london\n",
      "Processing Record 1 of Set 4 | nanortalik\n",
      "Processing Record 2 of Set 4 | taltal\n",
      "Processing Record 3 of Set 4 | hithadhoo\n",
      "Processing Record 4 of Set 4 | penzance\n",
      "Processing Record 5 of Set 4 | stoyba\n",
      "City not found. Skipping..\n",
      "Processing Record 6 of Set 4 | darhan\n",
      "Processing Record 7 of Set 4 | stornoway\n",
      "Processing Record 8 of Set 4 | bathurst\n",
      "Processing Record 9 of Set 4 | phan thiet\n",
      "Processing Record 10 of Set 4 | tahta\n",
      "Processing Record 11 of Set 4 | moose factory\n",
      "Processing Record 12 of Set 4 | cidreira\n",
      "Processing Record 13 of Set 4 | hobyo\n",
      "Processing Record 14 of Set 4 | constitucion\n",
      "Processing Record 15 of Set 4 | nouadhibou\n",
      "Processing Record 16 of Set 4 | zhuhai\n",
      "Processing Record 17 of Set 4 | kerrville\n",
      "Processing Record 18 of Set 4 | den helder\n",
      "Processing Record 19 of Set 4 | atka\n",
      "City not found. Skipping..\n",
      "Processing Record 20 of Set 4 | port alfred\n",
      "Processing Record 21 of Set 4 | andenes\n",
      "Processing Record 22 of Set 4 | ivanava\n",
      "Processing Record 23 of Set 4 | puerto baquerizo moreno\n",
      "Processing Record 24 of Set 4 | tiksi\n",
      "Processing Record 25 of Set 4 | tay ninh\n",
      "Processing Record 26 of Set 4 | souillac\n",
      "Processing Record 27 of Set 4 | shimoda\n",
      "Processing Record 28 of Set 4 | longyearbyen\n",
      "Processing Record 29 of Set 4 | saint anthony\n",
      "Processing Record 30 of Set 4 | bandarbeyla\n",
      "Processing Record 31 of Set 4 | arawa\n",
      "Processing Record 32 of Set 4 | cento\n",
      "Processing Record 33 of Set 4 | faanui\n",
      "Processing Record 34 of Set 4 | torbay\n",
      "Processing Record 35 of Set 4 | sarkand\n",
      "Processing Record 36 of Set 4 | inverell\n",
      "Processing Record 37 of Set 4 | qesarya\n",
      "Processing Record 38 of Set 4 | bargal\n",
      "City not found. Skipping..\n",
      "Processing Record 39 of Set 4 | avera\n",
      "Processing Record 40 of Set 4 | ayan\n",
      "Processing Record 41 of Set 4 | samarai\n",
      "Processing Record 42 of Set 4 | chicama\n",
      "Processing Record 43 of Set 4 | naryan-mar\n",
      "Processing Record 44 of Set 4 | nikolskoye\n",
      "Processing Record 45 of Set 4 | vyritsa\n",
      "Processing Record 46 of Set 4 | koumac\n",
      "Processing Record 47 of Set 4 | george town\n",
      "Processing Record 48 of Set 4 | alzamay\n",
      "Processing Record 49 of Set 4 | lompoc\n",
      "Processing Record 50 of Set 4 | barra patuca\n",
      "Processing Record 1 of Set 5 | kargasok\n",
      "Processing Record 2 of Set 5 | pochutla\n",
      "Processing Record 3 of Set 5 | altay\n",
      "Processing Record 4 of Set 5 | matagami\n",
      "Processing Record 5 of Set 5 | castro\n",
      "Processing Record 6 of Set 5 | opuwo\n",
      "Processing Record 7 of Set 5 | fredericksburg\n",
      "Processing Record 8 of Set 5 | monrovia\n",
      "Processing Record 9 of Set 5 | chardara\n",
      "Processing Record 10 of Set 5 | boves\n",
      "Processing Record 11 of Set 5 | la ronge\n",
      "Processing Record 12 of Set 5 | saint-pierre\n",
      "Processing Record 13 of Set 5 | uthal\n",
      "Processing Record 14 of Set 5 | praya\n",
      "Processing Record 15 of Set 5 | weligama\n",
      "Processing Record 16 of Set 5 | tabiauea\n",
      "City not found. Skipping..\n",
      "Processing Record 17 of Set 5 | ribeira grande\n",
      "Processing Record 18 of Set 5 | cabo san lucas\n",
      "Processing Record 19 of Set 5 | nador\n",
      "Processing Record 20 of Set 5 | upernavik\n",
      "Processing Record 21 of Set 5 | najran\n",
      "Processing Record 22 of Set 5 | adre\n",
      "Processing Record 23 of Set 5 | azimur\n",
      "City not found. Skipping..\n",
      "Processing Record 24 of Set 5 | fairbanks\n",
      "Processing Record 25 of Set 5 | bograd\n",
      "Processing Record 26 of Set 5 | pevek\n",
      "Processing Record 27 of Set 5 | poum\n",
      "Processing Record 28 of Set 5 | hasaki\n",
      "Processing Record 29 of Set 5 | kensington\n",
      "Processing Record 30 of Set 5 | kalmunai\n",
      "Processing Record 31 of Set 5 | port lincoln\n",
      "Processing Record 32 of Set 5 | dunmore east\n",
      "Processing Record 33 of Set 5 | cockburn town\n",
      "Processing Record 34 of Set 5 | chengde\n",
      "Processing Record 35 of Set 5 | loandjili\n",
      "Processing Record 36 of Set 5 | kilindoni\n",
      "Processing Record 37 of Set 5 | guerrero negro\n",
      "Processing Record 38 of Set 5 | honningsvag\n",
      "Processing Record 39 of Set 5 | carroll\n",
      "Processing Record 40 of Set 5 | edea\n",
      "Processing Record 41 of Set 5 | joshimath\n",
      "Processing Record 42 of Set 5 | pisco\n",
      "Processing Record 43 of Set 5 | sistranda\n",
      "Processing Record 44 of Set 5 | lichinga\n",
      "Processing Record 45 of Set 5 | pervomayskoye\n",
      "Processing Record 46 of Set 5 | weingarten\n",
      "Processing Record 47 of Set 5 | marcona\n",
      "City not found. Skipping..\n",
      "Processing Record 48 of Set 5 | sakakah\n",
      "Processing Record 49 of Set 5 | kirkwood\n",
      "Processing Record 50 of Set 5 | russell\n",
      "Processing Record 1 of Set 6 | nemuro\n",
      "Processing Record 2 of Set 6 | kudahuvadhoo\n",
      "Processing Record 3 of Set 6 | abu dhabi\n",
      "Processing Record 4 of Set 6 | hami\n",
      "Processing Record 5 of Set 6 | margate\n",
      "Processing Record 6 of Set 6 | olden\n",
      "Processing Record 7 of Set 6 | moree\n",
      "Processing Record 8 of Set 6 | dejen\n",
      "Processing Record 9 of Set 6 | airai\n",
      "Processing Record 10 of Set 6 | ancud\n",
      "Processing Record 11 of Set 6 | srednekolymsk\n",
      "Processing Record 12 of Set 6 | geraldton\n",
      "Processing Record 13 of Set 6 | ridgecrest\n",
      "Processing Record 14 of Set 6 | yar-sale\n",
      "Processing Record 15 of Set 6 | gravdal\n",
      "Processing Record 16 of Set 6 | thatta\n",
      "Processing Record 17 of Set 6 | ambovombe\n",
      "Processing Record 18 of Set 6 | banjar\n",
      "Processing Record 19 of Set 6 | tuatapere\n",
      "Processing Record 20 of Set 6 | samana\n",
      "Processing Record 21 of Set 6 | sao felix do xingu\n",
      "Processing Record 22 of Set 6 | kruisfontein\n",
      "Processing Record 23 of Set 6 | edgewater\n",
      "Processing Record 24 of Set 6 | dalnerechensk\n",
      "Processing Record 25 of Set 6 | okitipupa\n",
      "Processing Record 26 of Set 6 | iqaluit\n",
      "Processing Record 27 of Set 6 | san pedro\n",
      "Processing Record 28 of Set 6 | belyy yar\n",
      "Processing Record 29 of Set 6 | kahului\n",
      "Processing Record 30 of Set 6 | balkanabat\n",
      "Processing Record 31 of Set 6 | skjervoy\n",
      "Processing Record 32 of Set 6 | huicungo\n",
      "Processing Record 33 of Set 6 | rockport\n",
      "Processing Record 34 of Set 6 | nantucket\n",
      "Processing Record 35 of Set 6 | amasya\n",
      "Processing Record 36 of Set 6 | ndele\n",
      "Processing Record 37 of Set 6 | mantua\n",
      "Processing Record 38 of Set 6 | kuchinarai\n",
      "Processing Record 39 of Set 6 | neryungri\n",
      "Processing Record 40 of Set 6 | the valley\n",
      "Processing Record 41 of Set 6 | grimshaw\n",
      "Processing Record 42 of Set 6 | yerbogachen\n",
      "Processing Record 43 of Set 6 | trairi\n",
      "Processing Record 44 of Set 6 | chapada dos guimaraes\n",
      "Processing Record 45 of Set 6 | baykit\n",
      "Processing Record 46 of Set 6 | cocobeach\n",
      "Processing Record 47 of Set 6 | fukue\n",
      "Processing Record 48 of Set 6 | beringovskiy\n",
      "Processing Record 49 of Set 6 | bud\n",
      "Processing Record 50 of Set 6 | acapulco\n",
      "Processing Record 1 of Set 7 | arrecife\n",
      "Processing Record 2 of Set 7 | svetlyy\n",
      "Processing Record 3 of Set 7 | cayenne\n",
      "Processing Record 4 of Set 7 | tambacounda\n",
      "Processing Record 5 of Set 7 | praia\n",
      "Processing Record 6 of Set 7 | hamilton\n",
      "Processing Record 7 of Set 7 | zhigansk\n",
      "Processing Record 8 of Set 7 | san andres\n",
      "Processing Record 9 of Set 7 | tweed\n",
      "Processing Record 10 of Set 7 | yelovo\n",
      "Processing Record 11 of Set 7 | salalah\n",
      "Processing Record 12 of Set 7 | hilo\n",
      "Processing Record 13 of Set 7 | codrington\n",
      "Processing Record 14 of Set 7 | pogranichnyy\n",
      "Processing Record 15 of Set 7 | kamenskoye\n",
      "City not found. Skipping..\n",
      "Processing Record 16 of Set 7 | shingu\n",
      "Processing Record 17 of Set 7 | esperance\n",
      "Processing Record 18 of Set 7 | pemangkat\n",
      "Processing Record 19 of Set 7 | pasighat\n",
      "Processing Record 20 of Set 7 | ziro\n",
      "Processing Record 21 of Set 7 | kismayo\n",
      "Processing Record 22 of Set 7 | bonnyville\n",
      "Processing Record 23 of Set 7 | barentsburg\n",
      "City not found. Skipping..\n",
      "Processing Record 24 of Set 7 | belaya gora\n",
      "Processing Record 25 of Set 7 | soe\n",
      "Processing Record 26 of Set 7 | shenjiamen\n",
      "Processing Record 27 of Set 7 | dakar\n",
      "Processing Record 28 of Set 7 | salinopolis\n",
      "Processing Record 29 of Set 7 | khandyga\n",
      "Processing Record 30 of Set 7 | birao\n",
      "Processing Record 31 of Set 7 | kankon\n",
      "Processing Record 32 of Set 7 | hemsedal\n",
      "Processing Record 33 of Set 7 | sisimiut\n",
      "Processing Record 34 of Set 7 | richards bay\n",
      "Processing Record 35 of Set 7 | buraydah\n",
      "Processing Record 36 of Set 7 | rio de jesus\n",
      "Processing Record 37 of Set 7 | silver city\n",
      "Processing Record 38 of Set 7 | were ilu\n",
      "Processing Record 39 of Set 7 | puerto madryn\n",
      "Processing Record 40 of Set 7 | tazovskiy\n",
      "Processing Record 41 of Set 7 | lolua\n",
      "City not found. Skipping..\n",
      "Processing Record 42 of Set 7 | bubaque\n",
      "Processing Record 43 of Set 7 | rawannawi\n",
      "City not found. Skipping..\n",
      "Processing Record 44 of Set 7 | aykhal\n",
      "Processing Record 45 of Set 7 | tigil\n",
      "Processing Record 46 of Set 7 | grand-santi\n",
      "Processing Record 47 of Set 7 | piacabucu\n",
      "Processing Record 48 of Set 7 | norwich\n",
      "Processing Record 49 of Set 7 | pilar\n",
      "Processing Record 50 of Set 7 | vanimo\n",
      "Processing Record 1 of Set 8 | samalaeulu\n",
      "City not found. Skipping..\n",
      "Processing Record 2 of Set 8 | weihe\n",
      "Processing Record 3 of Set 8 | tooele\n",
      "Processing Record 4 of Set 8 | angoche\n",
      "Processing Record 5 of Set 8 | labuhan\n",
      "Processing Record 6 of Set 8 | luganville\n",
      "Processing Record 7 of Set 8 | vao\n",
      "Processing Record 8 of Set 8 | salinas\n",
      "Processing Record 9 of Set 8 | hauterive\n",
      "Processing Record 10 of Set 8 | jumla\n",
      "Processing Record 11 of Set 8 | pangnirtung\n",
      "Processing Record 12 of Set 8 | popovo\n",
      "Processing Record 13 of Set 8 | sao joao da barra\n",
      "Processing Record 14 of Set 8 | antofagasta\n",
      "Processing Record 15 of Set 8 | alekseyevsk\n",
      "Processing Record 16 of Set 8 | ajdabiya\n",
      "Processing Record 17 of Set 8 | plymouth\n",
      "Processing Record 18 of Set 8 | shiraoi\n",
      "Processing Record 19 of Set 8 | clyde river\n",
      "Processing Record 20 of Set 8 | alghero\n",
      "Processing Record 21 of Set 8 | palabuhanratu\n",
      "City not found. Skipping..\n",
      "Processing Record 22 of Set 8 | mabaruma\n",
      "Processing Record 23 of Set 8 | bolungarvik\n",
      "City not found. Skipping..\n",
      "Processing Record 24 of Set 8 | acheng\n",
      "Processing Record 25 of Set 8 | kiama\n",
      "Processing Record 26 of Set 8 | oxapampa\n",
      "Processing Record 27 of Set 8 | husavik\n",
      "Processing Record 28 of Set 8 | kindia\n",
      "Processing Record 29 of Set 8 | roald\n",
      "Processing Record 30 of Set 8 | plettenberg bay\n",
      "Processing Record 31 of Set 8 | aklavik\n",
      "Processing Record 32 of Set 8 | gurupi\n",
      "Processing Record 33 of Set 8 | verkhnyaya inta\n",
      "Processing Record 34 of Set 8 | sioux lookout\n",
      "Processing Record 35 of Set 8 | kucevo\n",
      "Processing Record 36 of Set 8 | maridi\n",
      "Processing Record 37 of Set 8 | kieta\n",
      "Processing Record 38 of Set 8 | khatanga\n",
      "Processing Record 39 of Set 8 | hovd\n",
      "Processing Record 40 of Set 8 | amapa\n",
      "Processing Record 41 of Set 8 | odweyne\n",
      "Processing Record 42 of Set 8 | xiutetelco\n",
      "City not found. Skipping..\n",
      "Processing Record 43 of Set 8 | la palma\n",
      "Processing Record 44 of Set 8 | petropavl\n",
      "Processing Record 45 of Set 8 | yulara\n",
      "Processing Record 46 of Set 8 | klaeng\n",
      "Processing Record 47 of Set 8 | brandon\n",
      "Processing Record 48 of Set 8 | puri\n",
      "Processing Record 49 of Set 8 | nhulunbuy\n",
      "Processing Record 50 of Set 8 | amahai\n",
      "Processing Record 1 of Set 9 | hofn\n",
      "Processing Record 2 of Set 9 | manokwari\n",
      "Processing Record 3 of Set 9 | gorno-chuyskiy\n",
      "City not found. Skipping..\n",
      "Processing Record 4 of Set 9 | waterloo\n",
      "Processing Record 5 of Set 9 | mount gambier\n",
      "Processing Record 6 of Set 9 | rawson\n",
      "Processing Record 7 of Set 9 | chebsara\n",
      "Processing Record 8 of Set 9 | maceio\n",
      "Processing Record 9 of Set 9 | maloshuyka\n",
      "City not found. Skipping..\n",
      "Processing Record 10 of Set 9 | chagda\n",
      "City not found. Skipping..\n",
      "Processing Record 11 of Set 9 | ishigaki\n",
      "Processing Record 12 of Set 9 | pontian kecil\n",
      "Processing Record 13 of Set 9 | bitung\n",
      "Processing Record 14 of Set 9 | luanda\n",
      "Processing Record 15 of Set 9 | xinmin\n",
      "Processing Record 16 of Set 9 | hermiston\n",
      "Processing Record 17 of Set 9 | alofi\n",
      "Processing Record 18 of Set 9 | zalantun\n",
      "Processing Record 19 of Set 9 | siyabuswa\n",
      "Processing Record 20 of Set 9 | millau\n",
      "Processing Record 21 of Set 9 | jati\n",
      "Processing Record 22 of Set 9 | camacha\n",
      "Processing Record 23 of Set 9 | uyuni\n",
      "Processing Record 24 of Set 9 | mangaluru\n",
      "Processing Record 25 of Set 9 | north bend\n",
      "Processing Record 26 of Set 9 | eureka\n",
      "Processing Record 27 of Set 9 | puerto quijarro\n",
      "Processing Record 28 of Set 9 | luderitz\n",
      "Processing Record 29 of Set 9 | chute-aux-outardes\n",
      "Processing Record 30 of Set 9 | nadym\n",
      "Processing Record 31 of Set 9 | killybegs\n",
      "Processing Record 32 of Set 9 | rodeo\n",
      "Processing Record 33 of Set 9 | kavaratti\n",
      "Processing Record 34 of Set 9 | namibe\n",
      "Processing Record 35 of Set 9 | mahebourg\n",
      "Processing Record 36 of Set 9 | vila\n",
      "Processing Record 37 of Set 9 | mayo\n",
      "Processing Record 38 of Set 9 | chase\n",
      "Processing Record 39 of Set 9 | ailigandi\n",
      "Processing Record 40 of Set 9 | susanville\n",
      "Processing Record 41 of Set 9 | steamboat springs\n",
      "Processing Record 42 of Set 9 | half moon bay\n",
      "Processing Record 43 of Set 9 | ko samui\n",
      "Processing Record 44 of Set 9 | tomatlan\n",
      "Processing Record 45 of Set 9 | san diego de los banos\n",
      "Processing Record 46 of Set 9 | brainerd\n",
      "Processing Record 47 of Set 9 | tumannyy\n",
      "City not found. Skipping..\n",
      "Processing Record 48 of Set 9 | yanam\n",
      "Processing Record 49 of Set 9 | santa fe\n",
      "Processing Record 50 of Set 9 | sungairaya\n",
      "Processing Record 1 of Set 10 | qasigiannguit\n",
      "Processing Record 2 of Set 10 | melhus\n",
      "Processing Record 3 of Set 10 | mehamn\n",
      "Processing Record 4 of Set 10 | mergui\n",
      "City not found. Skipping..\n",
      "Processing Record 5 of Set 10 | cairns\n",
      "Processing Record 6 of Set 10 | tha mai\n",
      "Processing Record 7 of Set 10 | chokwe\n",
      "Processing Record 8 of Set 10 | galgani\n",
      "City not found. Skipping..\n",
      "Processing Record 9 of Set 10 | sarh\n",
      "Processing Record 10 of Set 10 | paranavai\n",
      "Processing Record 11 of Set 10 | fortuna\n",
      "Processing Record 12 of Set 10 | sur\n",
      "Processing Record 13 of Set 10 | antequera\n",
      "Processing Record 14 of Set 10 | alta floresta\n",
      "Processing Record 15 of Set 10 | pangody\n",
      "Processing Record 16 of Set 10 | zlitan\n",
      "Processing Record 17 of Set 10 | lata\n",
      "Processing Record 18 of Set 10 | sulangan\n",
      "Processing Record 19 of Set 10 | nuuk\n",
      "Processing Record 20 of Set 10 | sobolevo\n",
      "Processing Record 21 of Set 10 | coihaique\n",
      "Processing Record 22 of Set 10 | homer\n",
      "Processing Record 23 of Set 10 | lovozero\n",
      "Processing Record 24 of Set 10 | vershino-darasunskiy\n",
      "Processing Record 25 of Set 10 | vestmannaeyjar\n",
      "Processing Record 26 of Set 10 | neiafu\n",
      "Processing Record 27 of Set 10 | gavrilovka vtoraya\n",
      "Processing Record 28 of Set 10 | saint george\n",
      "Processing Record 29 of Set 10 | lieksa\n",
      "Processing Record 30 of Set 10 | tineo\n",
      "Processing Record 31 of Set 10 | gulshat\n",
      "City not found. Skipping..\n",
      "Processing Record 32 of Set 10 | inhambane\n",
      "Processing Record 33 of Set 10 | ucluelet\n",
      "Processing Record 34 of Set 10 | san luis\n",
      "Processing Record 35 of Set 10 | zolotukhino\n",
      "Processing Record 36 of Set 10 | swindon\n",
      "Processing Record 37 of Set 10 | diamantino\n",
      "Processing Record 38 of Set 10 | tungkang\n",
      "City not found. Skipping..\n",
      "Processing Record 39 of Set 10 | sechura\n",
      "Processing Record 40 of Set 10 | pacifica\n",
      "Processing Record 41 of Set 10 | calvinia\n",
      "Processing Record 42 of Set 10 | bima\n",
      "Processing Record 43 of Set 10 | mogadishu\n",
      "Processing Record 44 of Set 10 | yaan\n",
      "Processing Record 45 of Set 10 | palmer\n",
      "Processing Record 46 of Set 10 | beloha\n",
      "Processing Record 47 of Set 10 | otjimbingwe\n",
      "Processing Record 48 of Set 10 | saint-jean-port-joli\n",
      "Processing Record 49 of Set 10 | dolbeau\n",
      "City not found. Skipping..\n",
      "Processing Record 50 of Set 10 | kindu\n",
      "Processing Record 1 of Set 11 | nieuw amsterdam\n",
      "Processing Record 2 of Set 11 | maniitsoq\n",
      "Processing Record 3 of Set 11 | coquimbo\n",
      "Processing Record 4 of Set 11 | vila velha\n",
      "Processing Record 5 of Set 11 | biggar\n",
      "Processing Record 6 of Set 11 | lima\n",
      "Processing Record 7 of Set 11 | coihueco\n",
      "Processing Record 8 of Set 11 | sitka\n",
      "Processing Record 9 of Set 11 | kashi\n",
      "Processing Record 10 of Set 11 | singkang\n",
      "Processing Record 11 of Set 11 | aktash\n",
      "Processing Record 12 of Set 11 | listvyanka\n",
      "Processing Record 13 of Set 11 | urucara\n",
      "Processing Record 14 of Set 11 | rio branco\n",
      "Processing Record 15 of Set 11 | bongaree\n",
      "Processing Record 16 of Set 11 | ambon\n",
      "Processing Record 17 of Set 11 | cumberland\n",
      "Processing Record 18 of Set 11 | thompson\n",
      "Processing Record 19 of Set 11 | ilesha\n",
      "Processing Record 20 of Set 11 | ostrovnoy\n",
      "Processing Record 21 of Set 11 | muravlenko\n",
      "Processing Record 22 of Set 11 | baboua\n",
      "City not found. Skipping..\n",
      "Processing Record 23 of Set 11 | dali\n",
      "Processing Record 24 of Set 11 | warrington\n",
      "Processing Record 25 of Set 11 | yeletskiy\n",
      "City not found. Skipping..\n",
      "Processing Record 26 of Set 11 | chernyshevskiy\n",
      "Processing Record 27 of Set 11 | marawi\n",
      "Processing Record 28 of Set 11 | rincon\n",
      "Processing Record 29 of Set 11 | mattru\n",
      "Processing Record 30 of Set 11 | atlantic beach\n",
      "Processing Record 31 of Set 11 | aripuana\n",
      "Processing Record 32 of Set 11 | general pico\n",
      "Processing Record 33 of Set 11 | florencia\n",
      "Processing Record 34 of Set 11 | cleethorpes\n",
      "Processing Record 35 of Set 11 | mendahara\n",
      "City not found. Skipping..\n",
      "Processing Record 36 of Set 11 | yumen\n",
      "Processing Record 37 of Set 11 | washington\n",
      "Processing Record 38 of Set 11 | lagunas\n",
      "Processing Record 39 of Set 11 | cuamba\n",
      "Processing Record 40 of Set 11 | pawai\n",
      "Processing Record 41 of Set 11 | ternate\n",
      "Processing Record 42 of Set 11 | nishihara\n",
      "Processing Record 43 of Set 11 | tadepalle\n",
      "Processing Record 44 of Set 11 | kedrovyy\n",
      "Processing Record 45 of Set 11 | leshukonskoye\n",
      "Processing Record 46 of Set 11 | cap malheureux\n",
      "Processing Record 47 of Set 11 | baturaja\n",
      "Processing Record 48 of Set 11 | gallup\n",
      "Processing Record 49 of Set 11 | muros\n",
      "Processing Record 50 of Set 11 | gaspe\n",
      "Processing Record 1 of Set 12 | birjand\n",
      "Processing Record 2 of Set 12 | mount isa\n",
      "Processing Record 3 of Set 12 | kysyl-syr\n",
      "Processing Record 4 of Set 12 | bongandanga\n",
      "Processing Record 5 of Set 12 | bathsheba\n",
      "Processing Record 6 of Set 12 | kargil\n",
      "Processing Record 7 of Set 12 | temaraia\n",
      "City not found. Skipping..\n",
      "Processing Record 8 of Set 12 | sofiysk\n",
      "City not found. Skipping..\n",
      "Processing Record 9 of Set 12 | cazones\n",
      "Processing Record 10 of Set 12 | leningradskiy\n",
      "Processing Record 11 of Set 12 | tripoli\n",
      "Processing Record 12 of Set 12 | andrews\n",
      "Processing Record 13 of Set 12 | haines junction\n",
      "Processing Record 14 of Set 12 | chivilcoy\n",
      "Processing Record 15 of Set 12 | saint-paul\n",
      "Processing Record 16 of Set 12 | tessalit\n",
      "Processing Record 17 of Set 12 | atar\n",
      "Processing Record 18 of Set 12 | haradok\n",
      "Processing Record 19 of Set 12 | bengkulu\n",
      "Processing Record 20 of Set 12 | tura\n",
      "Processing Record 21 of Set 12 | lukovetskiy\n",
      "Processing Record 22 of Set 12 | herat\n",
      "Processing Record 23 of Set 12 | warqla\n",
      "City not found. Skipping..\n",
      "Processing Record 24 of Set 12 | sao miguel do araguaia\n",
      "Processing Record 25 of Set 12 | olga\n",
      "Processing Record 26 of Set 12 | laguna\n",
      "Processing Record 27 of Set 12 | kuppam\n",
      "Processing Record 28 of Set 12 | na wa\n",
      "Processing Record 29 of Set 12 | inuvik\n",
      "Processing Record 30 of Set 12 | santa cruz cabralia\n",
      "Processing Record 31 of Set 12 | correntina\n",
      "Processing Record 32 of Set 12 | banjarmasin\n",
      "Processing Record 33 of Set 12 | altamira\n",
      "Processing Record 34 of Set 12 | tarata\n",
      "Processing Record 35 of Set 12 | zyryanka\n",
      "Processing Record 36 of Set 12 | naze\n",
      "Processing Record 37 of Set 12 | leh\n",
      "Processing Record 38 of Set 12 | kirakira\n",
      "Processing Record 39 of Set 12 | magrath\n",
      "Processing Record 40 of Set 12 | natitingou\n",
      "Processing Record 41 of Set 12 | mayumba\n",
      "Processing Record 42 of Set 12 | kibaya\n",
      "Processing Record 43 of Set 12 | katsuura\n",
      "Processing Record 44 of Set 12 | buala\n",
      "Processing Record 45 of Set 12 | bardiyah\n",
      "Processing Record 46 of Set 12 | ialibu\n",
      "Processing Record 47 of Set 12 | tungor\n",
      "Processing Record 48 of Set 12 | champerico\n",
      "Processing Record 49 of Set 12 | makakilo city\n",
      "Processing Record 50 of Set 12 | craig\n",
      "Processing Record 1 of Set 13 | ulaangom\n",
      "Processing Record 2 of Set 13 | huarmey\n",
      "Processing Record 3 of Set 13 | havre-saint-pierre\n",
      "Processing Record 4 of Set 13 | henties bay\n",
      "Processing Record 5 of Set 13 | taoudenni\n",
      "Processing Record 6 of Set 13 | sesheke\n",
      "Processing Record 7 of Set 13 | sahuaripa\n",
      "Processing Record 8 of Set 13 | kanakapura\n",
      "Processing Record 9 of Set 13 | fort nelson\n",
      "Processing Record 10 of Set 13 | camargo\n",
      "Processing Record 11 of Set 13 | mackenzie\n",
      "Processing Record 12 of Set 13 | pailon\n",
      "Processing Record 13 of Set 13 | alappuzha\n"
     ]
    }
   ],
   "source": [
    "count = 0\n",
    "num_set = 1\n",
    "weathers = []\n",
    "for city in cities:\n",
    "    url = f'http://api.openweathermap.org/data/2.5/weather?q={city}&appid={weather_api_key}&units=imperial'\n",
    "    try:\n",
    "        res = requests.get(url).json()\n",
    "        print(f'Processing Record {count%50+1} of Set {num_set} | {city}')\n",
    "        count = count + 1\n",
    "        num_set = int(count/50) + 1\n",
    "        res['main']\n",
    "        weathers.append(res)\n",
    "    except:\n",
    "        print('City not found. Skipping..')"
   ]
  },
  {
   "cell_type": "code",
   "execution_count": 44,
   "metadata": {
    "scrolled": true
   },
   "outputs": [],
   "source": [
    "temps = []\n",
    "humidities = []\n",
    "cloudiness = []\n",
    "wind_speeds = []\n",
    "dates = []\n",
    "new_cities = []\n",
    "lats = []\n",
    "lngs = []\n",
    "for weather in weathers:\n",
    "    temps.append(weather['main']['temp_max'])\n",
    "    humidities.append(weather['main']['humidity'])\n",
    "    cloudiness.append(weather['clouds']['all'])\n",
    "    wind_speeds.append(weather['wind']['speed'])\n",
    "    dates.append(weather['dt'])\n",
    "    new_cities.append(weather['name'])\n",
    "    lats.append(weather['coord']['lat'])\n",
    "    lngs.append(weather['coord']['lon'])"
   ]
  },
  {
   "cell_type": "markdown",
   "metadata": {},
   "source": [
    "### Convert Raw Data to DataFrame\n",
    "* Export the city data into a .csv.\n",
    "* Display the DataFrame"
   ]
  },
  {
   "cell_type": "code",
   "execution_count": 45,
   "metadata": {},
   "outputs": [
    {
     "data": {
      "text/html": [
       "<div>\n",
       "<style scoped>\n",
       "    .dataframe tbody tr th:only-of-type {\n",
       "        vertical-align: middle;\n",
       "    }\n",
       "\n",
       "    .dataframe tbody tr th {\n",
       "        vertical-align: top;\n",
       "    }\n",
       "\n",
       "    .dataframe thead th {\n",
       "        text-align: right;\n",
       "    }\n",
       "</style>\n",
       "<table border=\"1\" class=\"dataframe\">\n",
       "  <thead>\n",
       "    <tr style=\"text-align: right;\">\n",
       "      <th></th>\n",
       "      <th>City</th>\n",
       "      <th>Lat</th>\n",
       "      <th>Lngs</th>\n",
       "      <th>Max Temp</th>\n",
       "      <th>Humidity</th>\n",
       "      <th>Cloudiness</th>\n",
       "      <th>Wind Speed</th>\n",
       "      <th>Date</th>\n",
       "    </tr>\n",
       "  </thead>\n",
       "  <tbody>\n",
       "    <tr>\n",
       "      <th>0</th>\n",
       "      <td>Mataura</td>\n",
       "      <td>-46.1927</td>\n",
       "      <td>168.8643</td>\n",
       "      <td>78.85</td>\n",
       "      <td>46</td>\n",
       "      <td>15</td>\n",
       "      <td>4.16</td>\n",
       "      <td>1612671947</td>\n",
       "    </tr>\n",
       "    <tr>\n",
       "      <th>1</th>\n",
       "      <td>George Town</td>\n",
       "      <td>5.4112</td>\n",
       "      <td>100.3354</td>\n",
       "      <td>89.60</td>\n",
       "      <td>45</td>\n",
       "      <td>20</td>\n",
       "      <td>6.91</td>\n",
       "      <td>1612671772</td>\n",
       "    </tr>\n",
       "    <tr>\n",
       "      <th>2</th>\n",
       "      <td>Itarema</td>\n",
       "      <td>-2.9248</td>\n",
       "      <td>-39.9167</td>\n",
       "      <td>76.89</td>\n",
       "      <td>87</td>\n",
       "      <td>14</td>\n",
       "      <td>8.28</td>\n",
       "      <td>1612672184</td>\n",
       "    </tr>\n",
       "    <tr>\n",
       "      <th>3</th>\n",
       "      <td>Qaanaaq</td>\n",
       "      <td>77.4840</td>\n",
       "      <td>-69.3632</td>\n",
       "      <td>12.47</td>\n",
       "      <td>91</td>\n",
       "      <td>100</td>\n",
       "      <td>5.66</td>\n",
       "      <td>1612672039</td>\n",
       "    </tr>\n",
       "    <tr>\n",
       "      <th>4</th>\n",
       "      <td>Touros</td>\n",
       "      <td>-5.1989</td>\n",
       "      <td>-35.4608</td>\n",
       "      <td>75.20</td>\n",
       "      <td>88</td>\n",
       "      <td>20</td>\n",
       "      <td>3.44</td>\n",
       "      <td>1612672111</td>\n",
       "    </tr>\n",
       "  </tbody>\n",
       "</table>\n",
       "</div>"
      ],
      "text/plain": [
       "          City      Lat      Lngs  Max Temp  Humidity  Cloudiness  Wind Speed  \\\n",
       "0      Mataura -46.1927  168.8643     78.85        46          15        4.16   \n",
       "1  George Town   5.4112  100.3354     89.60        45          20        6.91   \n",
       "2      Itarema  -2.9248  -39.9167     76.89        87          14        8.28   \n",
       "3      Qaanaaq  77.4840  -69.3632     12.47        91         100        5.66   \n",
       "4       Touros  -5.1989  -35.4608     75.20        88          20        3.44   \n",
       "\n",
       "         Date  \n",
       "0  1612671947  \n",
       "1  1612671772  \n",
       "2  1612672184  \n",
       "3  1612672039  \n",
       "4  1612672111  "
      ]
     },
     "execution_count": 45,
     "metadata": {},
     "output_type": "execute_result"
    }
   ],
   "source": [
    "city_data = pd.DataFrame({'City':new_cities,'Lat': lats, 'Lngs': lngs, 'Max Temp': temps, 'Humidity': humidities, 'Cloudiness': cloudiness,\n",
    "                         'Wind Speed': wind_speeds, 'Date': dates})\n",
    "city_data.to_csv('output.csv')\n",
    "city_data.head()"
   ]
  },
  {
   "cell_type": "code",
   "execution_count": 46,
   "metadata": {},
   "outputs": [
    {
     "data": {
      "text/html": [
       "<div>\n",
       "<style scoped>\n",
       "    .dataframe tbody tr th:only-of-type {\n",
       "        vertical-align: middle;\n",
       "    }\n",
       "\n",
       "    .dataframe tbody tr th {\n",
       "        vertical-align: top;\n",
       "    }\n",
       "\n",
       "    .dataframe thead th {\n",
       "        text-align: right;\n",
       "    }\n",
       "</style>\n",
       "<table border=\"1\" class=\"dataframe\">\n",
       "  <thead>\n",
       "    <tr style=\"text-align: right;\">\n",
       "      <th></th>\n",
       "      <th>Lat</th>\n",
       "      <th>Lngs</th>\n",
       "      <th>Max Temp</th>\n",
       "      <th>Humidity</th>\n",
       "      <th>Cloudiness</th>\n",
       "      <th>Wind Speed</th>\n",
       "      <th>Date</th>\n",
       "    </tr>\n",
       "  </thead>\n",
       "  <tbody>\n",
       "    <tr>\n",
       "      <th>count</th>\n",
       "      <td>567.000000</td>\n",
       "      <td>567.000000</td>\n",
       "      <td>567.000000</td>\n",
       "      <td>567.000000</td>\n",
       "      <td>567.000000</td>\n",
       "      <td>567.000000</td>\n",
       "      <td>5.670000e+02</td>\n",
       "    </tr>\n",
       "    <tr>\n",
       "      <th>mean</th>\n",
       "      <td>20.360588</td>\n",
       "      <td>13.842360</td>\n",
       "      <td>50.386384</td>\n",
       "      <td>73.566138</td>\n",
       "      <td>49.629630</td>\n",
       "      <td>8.478660</td>\n",
       "      <td>1.612672e+09</td>\n",
       "    </tr>\n",
       "    <tr>\n",
       "      <th>std</th>\n",
       "      <td>32.732274</td>\n",
       "      <td>91.504472</td>\n",
       "      <td>31.933073</td>\n",
       "      <td>18.831279</td>\n",
       "      <td>39.602446</td>\n",
       "      <td>6.147672</td>\n",
       "      <td>2.169315e+02</td>\n",
       "    </tr>\n",
       "    <tr>\n",
       "      <th>min</th>\n",
       "      <td>-54.800000</td>\n",
       "      <td>-175.200000</td>\n",
       "      <td>-43.010000</td>\n",
       "      <td>16.000000</td>\n",
       "      <td>0.000000</td>\n",
       "      <td>0.380000</td>\n",
       "      <td>1.612672e+09</td>\n",
       "    </tr>\n",
       "    <tr>\n",
       "      <th>25%</th>\n",
       "      <td>-6.463400</td>\n",
       "      <td>-67.934550</td>\n",
       "      <td>31.675000</td>\n",
       "      <td>64.000000</td>\n",
       "      <td>4.000000</td>\n",
       "      <td>4.060000</td>\n",
       "      <td>1.612672e+09</td>\n",
       "    </tr>\n",
       "    <tr>\n",
       "      <th>50%</th>\n",
       "      <td>24.266700</td>\n",
       "      <td>16.133300</td>\n",
       "      <td>60.800000</td>\n",
       "      <td>78.000000</td>\n",
       "      <td>49.000000</td>\n",
       "      <td>6.910000</td>\n",
       "      <td>1.612673e+09</td>\n",
       "    </tr>\n",
       "    <tr>\n",
       "      <th>75%</th>\n",
       "      <td>47.733300</td>\n",
       "      <td>96.785000</td>\n",
       "      <td>75.915000</td>\n",
       "      <td>88.000000</td>\n",
       "      <td>90.000000</td>\n",
       "      <td>11.500000</td>\n",
       "      <td>1.612673e+09</td>\n",
       "    </tr>\n",
       "    <tr>\n",
       "      <th>max</th>\n",
       "      <td>78.218600</td>\n",
       "      <td>179.316700</td>\n",
       "      <td>95.000000</td>\n",
       "      <td>100.000000</td>\n",
       "      <td>100.000000</td>\n",
       "      <td>39.120000</td>\n",
       "      <td>1.612673e+09</td>\n",
       "    </tr>\n",
       "  </tbody>\n",
       "</table>\n",
       "</div>"
      ],
      "text/plain": [
       "              Lat        Lngs    Max Temp    Humidity  Cloudiness  Wind Speed  \\\n",
       "count  567.000000  567.000000  567.000000  567.000000  567.000000  567.000000   \n",
       "mean    20.360588   13.842360   50.386384   73.566138   49.629630    8.478660   \n",
       "std     32.732274   91.504472   31.933073   18.831279   39.602446    6.147672   \n",
       "min    -54.800000 -175.200000  -43.010000   16.000000    0.000000    0.380000   \n",
       "25%     -6.463400  -67.934550   31.675000   64.000000    4.000000    4.060000   \n",
       "50%     24.266700   16.133300   60.800000   78.000000   49.000000    6.910000   \n",
       "75%     47.733300   96.785000   75.915000   88.000000   90.000000   11.500000   \n",
       "max     78.218600  179.316700   95.000000  100.000000  100.000000   39.120000   \n",
       "\n",
       "               Date  \n",
       "count  5.670000e+02  \n",
       "mean   1.612672e+09  \n",
       "std    2.169315e+02  \n",
       "min    1.612672e+09  \n",
       "25%    1.612672e+09  \n",
       "50%    1.612673e+09  \n",
       "75%    1.612673e+09  \n",
       "max    1.612673e+09  "
      ]
     },
     "execution_count": 46,
     "metadata": {},
     "output_type": "execute_result"
    }
   ],
   "source": [
    "city_data.describe()"
   ]
  },
  {
   "cell_type": "markdown",
   "metadata": {},
   "source": [
    "## Inspect the data and remove the cities where the humidity > 100%.\n",
    "----\n",
    "Skip this step if there are no cities that have humidity > 100%. "
   ]
  },
  {
   "cell_type": "code",
   "execution_count": 6,
   "metadata": {},
   "outputs": [
    {
     "data": {
      "text/html": [
       "<div>\n",
       "<style scoped>\n",
       "    .dataframe tbody tr th:only-of-type {\n",
       "        vertical-align: middle;\n",
       "    }\n",
       "\n",
       "    .dataframe tbody tr th {\n",
       "        vertical-align: top;\n",
       "    }\n",
       "\n",
       "    .dataframe thead th {\n",
       "        text-align: right;\n",
       "    }\n",
       "</style>\n",
       "<table border=\"1\" class=\"dataframe\">\n",
       "  <thead>\n",
       "    <tr style=\"text-align: right;\">\n",
       "      <th></th>\n",
       "      <th>Lat</th>\n",
       "      <th>Lng</th>\n",
       "      <th>Max Temp</th>\n",
       "      <th>Humidity</th>\n",
       "      <th>Cloudiness</th>\n",
       "      <th>Wind Speed</th>\n",
       "      <th>Date</th>\n",
       "    </tr>\n",
       "  </thead>\n",
       "  <tbody>\n",
       "    <tr>\n",
       "      <th>count</th>\n",
       "      <td>550.000000</td>\n",
       "      <td>550.000000</td>\n",
       "      <td>550.000000</td>\n",
       "      <td>550.000000</td>\n",
       "      <td>550.000000</td>\n",
       "      <td>550.000000</td>\n",
       "      <td>5.500000e+02</td>\n",
       "    </tr>\n",
       "    <tr>\n",
       "      <th>mean</th>\n",
       "      <td>19.973545</td>\n",
       "      <td>17.124400</td>\n",
       "      <td>58.331400</td>\n",
       "      <td>67.890909</td>\n",
       "      <td>52.141818</td>\n",
       "      <td>8.544800</td>\n",
       "      <td>1.585764e+09</td>\n",
       "    </tr>\n",
       "    <tr>\n",
       "      <th>std</th>\n",
       "      <td>33.284840</td>\n",
       "      <td>91.595451</td>\n",
       "      <td>25.795297</td>\n",
       "      <td>20.864881</td>\n",
       "      <td>35.766469</td>\n",
       "      <td>6.078869</td>\n",
       "      <td>5.539674e+01</td>\n",
       "    </tr>\n",
       "    <tr>\n",
       "      <th>min</th>\n",
       "      <td>-54.800000</td>\n",
       "      <td>-179.170000</td>\n",
       "      <td>-11.340000</td>\n",
       "      <td>9.000000</td>\n",
       "      <td>0.000000</td>\n",
       "      <td>0.160000</td>\n",
       "      <td>1.585764e+09</td>\n",
       "    </tr>\n",
       "    <tr>\n",
       "      <th>25%</th>\n",
       "      <td>-8.077500</td>\n",
       "      <td>-64.627500</td>\n",
       "      <td>42.800000</td>\n",
       "      <td>55.000000</td>\n",
       "      <td>20.000000</td>\n",
       "      <td>4.525000</td>\n",
       "      <td>1.585764e+09</td>\n",
       "    </tr>\n",
       "    <tr>\n",
       "      <th>50%</th>\n",
       "      <td>23.630000</td>\n",
       "      <td>19.635000</td>\n",
       "      <td>64.940000</td>\n",
       "      <td>72.000000</td>\n",
       "      <td>57.000000</td>\n",
       "      <td>7.325000</td>\n",
       "      <td>1.585764e+09</td>\n",
       "    </tr>\n",
       "    <tr>\n",
       "      <th>75%</th>\n",
       "      <td>48.672500</td>\n",
       "      <td>97.350000</td>\n",
       "      <td>78.800000</td>\n",
       "      <td>83.000000</td>\n",
       "      <td>86.750000</td>\n",
       "      <td>11.410000</td>\n",
       "      <td>1.585764e+09</td>\n",
       "    </tr>\n",
       "    <tr>\n",
       "      <th>max</th>\n",
       "      <td>78.220000</td>\n",
       "      <td>179.320000</td>\n",
       "      <td>102.200000</td>\n",
       "      <td>100.000000</td>\n",
       "      <td>100.000000</td>\n",
       "      <td>46.080000</td>\n",
       "      <td>1.585764e+09</td>\n",
       "    </tr>\n",
       "  </tbody>\n",
       "</table>\n",
       "</div>"
      ],
      "text/plain": [
       "              Lat         Lng    Max Temp    Humidity  Cloudiness  Wind Speed  \\\n",
       "count  550.000000  550.000000  550.000000  550.000000  550.000000  550.000000   \n",
       "mean    19.973545   17.124400   58.331400   67.890909   52.141818    8.544800   \n",
       "std     33.284840   91.595451   25.795297   20.864881   35.766469    6.078869   \n",
       "min    -54.800000 -179.170000  -11.340000    9.000000    0.000000    0.160000   \n",
       "25%     -8.077500  -64.627500   42.800000   55.000000   20.000000    4.525000   \n",
       "50%     23.630000   19.635000   64.940000   72.000000   57.000000    7.325000   \n",
       "75%     48.672500   97.350000   78.800000   83.000000   86.750000   11.410000   \n",
       "max     78.220000  179.320000  102.200000  100.000000  100.000000   46.080000   \n",
       "\n",
       "               Date  \n",
       "count  5.500000e+02  \n",
       "mean   1.585764e+09  \n",
       "std    5.539674e+01  \n",
       "min    1.585764e+09  \n",
       "25%    1.585764e+09  \n",
       "50%    1.585764e+09  \n",
       "75%    1.585764e+09  \n",
       "max    1.585764e+09  "
      ]
     },
     "execution_count": 6,
     "metadata": {},
     "output_type": "execute_result"
    }
   ],
   "source": []
  },
  {
   "cell_type": "code",
   "execution_count": 17,
   "metadata": {},
   "outputs": [
    {
     "data": {
      "text/plain": [
       "Int64Index([], dtype='int64')"
      ]
     },
     "execution_count": 17,
     "metadata": {},
     "output_type": "execute_result"
    }
   ],
   "source": [
    "#  Get the indices of cities that have humidity over 100%.\n"
   ]
  },
  {
   "cell_type": "code",
   "execution_count": 50,
   "metadata": {},
   "outputs": [],
   "source": [
    "# Make a new DataFrame equal to the city data to drop all humidity outliers by index.\n",
    "# Passing \"inplace=False\" will make a copy of the city_data DataFrame, which we call \"clean_city_data\".\n",
    "clean_city_data = city_data[city_data['Humidity'] < 100]"
   ]
  },
  {
   "cell_type": "code",
   "execution_count": null,
   "metadata": {},
   "outputs": [],
   "source": [
    "\n"
   ]
  },
  {
   "cell_type": "markdown",
   "metadata": {},
   "source": [
    "## Plotting the Data\n",
    "* Use proper labeling of the plots using plot titles (including date of analysis) and axes labels.\n",
    "* Save the plotted figures as .pngs."
   ]
  },
  {
   "cell_type": "markdown",
   "metadata": {},
   "source": [
    "## Latitude vs. Temperature Plot"
   ]
  },
  {
   "cell_type": "code",
   "execution_count": 51,
   "metadata": {
    "scrolled": true
   },
   "outputs": [
    {
     "data": {
      "image/png": "[encoded data removed]",
      "text/plain": [
       "<Figure size 432x288 with 1 Axes>"
      ]
     },
     "metadata": {
      "needs_background": "light"
     },
     "output_type": "display_data"
    }
   ],
   "source": [
    "plt.scatter(clean_city_data['Lat'],clean_city_data['Max Temp'])\n",
    "plt.title('City Latitude vs. Max Temperature (2/6/2021)')\n",
    "plt.xlabel('Latitude')\n",
    "plt.ylabel('Max Temperature (F)')\n",
    "plt.show()\n",
    "#The code is analyzing how the temperature changes based on the latitude of the given city"
   ]
  },
  {
   "cell_type": "markdown",
   "metadata": {},
   "source": [
    "## Latitude vs. Humidity Plot"
   ]
  },
  {
   "cell_type": "code",
   "execution_count": 55,
   "metadata": {},
   "outputs": [
    {
     "data": {
      "image/png": "[encoded data removed]",
      "text/plain": [
       "<Figure size 432x288 with 1 Axes>"
      ]
     },
     "metadata": {
      "needs_background": "light"
     },
     "output_type": "display_data"
    }
   ],
   "source": [
    "plt.scatter(clean_city_data['Lat'],clean_city_data['Humidity'])\n",
    "plt.title('City Latitude vs. Humidity (2/6/2021)')\n",
    "plt.xlabel('Latitude')\n",
    "plt.ylabel('Humidity (%)')\n",
    "plt.show()\n",
    "#The code is analyzing how the humidity changes based on the latitude of the given city(excluding any cities with 100% humidity)"
   ]
  },
  {
   "cell_type": "markdown",
   "metadata": {},
   "source": [
    "## Latitude vs. Cloudiness Plot"
   ]
  },
  {
   "cell_type": "code",
   "execution_count": 57,
   "metadata": {},
   "outputs": [
    {
     "data": {
      "image/png": "[encoded data removed]",
      "text/plain": [
       "<Figure size 432x288 with 1 Axes>"
      ]
     },
     "metadata": {
      "needs_background": "light"
     },
     "output_type": "display_data"
    }
   ],
   "source": [
    "plt.scatter(clean_city_data['Lat'],clean_city_data['Cloudiness'])\n",
    "plt.title('City Latitude vs. Cloudiness (2/6/2021)')\n",
    "plt.xlabel('Latitude')\n",
    "plt.ylabel('Cloudiness (%)')\n",
    "plt.show()\n",
    "#The code is analyzing how the cloudiness changes based on the latitude of the given city"
   ]
  },
  {
   "cell_type": "markdown",
   "metadata": {},
   "source": [
    "## Latitude vs. Wind Speed Plot"
   ]
  },
  {
   "cell_type": "code",
   "execution_count": 58,
   "metadata": {},
   "outputs": [
    {
     "data": {
      "text/plain": [
       "<function matplotlib.pyplot.show(*args, **kw)>"
      ]
     },
     "execution_count": 58,
     "metadata": {},
     "output_type": "execute_result"
    },
    {
     "data": {
      "image/png": "[encoded data removed]",
      "text/plain": [
       "<Figure size 432x288 with 1 Axes>"
      ]
     },
     "metadata": {
      "needs_background": "light"
     },
     "output_type": "display_data"
    }
   ],
   "source": [
    "plt.scatter(clean_city_data['Lat'],clean_city_data['Wind Speed'])\n",
    "plt.title('City Latitude vs. Wind Speed (2/6/2021)')\n",
    "plt.xlabel('Latitude')\n",
    "plt.ylabel('Wind Speed (mph)')\n",
    "plt.show\n",
    "#The code is analyzing how the wind speed changes based on the latitude of the given city"
   ]
  },
  {
   "cell_type": "markdown",
   "metadata": {},
   "source": [
    "## Linear Regression"
   ]
  },
  {
   "cell_type": "code",
   "execution_count": 61,
   "metadata": {},
   "outputs": [],
   "source": [
    "northern_df = clean_city_data[clean_city_data['Lat']>=0]\n",
    "southern_df = clean_city_data[clean_city_data['Lat']<0]"
   ]
  },
  {
   "cell_type": "markdown",
   "metadata": {},
   "source": [
    "####  Northern Hemisphere - Max Temp vs. Latitude Linear Regression"
   ]
  },
  {
   "cell_type": "code",
   "execution_count": 102,
   "metadata": {},
   "outputs": [
    {
     "name": "stdout",
     "output_type": "stream",
     "text": [
      "The regression line is y =-1.4x + 93.29 and the r value is -0.86\n"
     ]
    },
    {
     "data": {
      "image/png": "[encoded data removed]",
      "text/plain": [
       "<Figure size 432x288 with 1 Axes>"
      ]
     },
     "metadata": {
      "needs_background": "light"
     },
     "output_type": "display_data"
    }
   ],
   "source": [
    "plt.scatter(northern_df['Lat'],northern_df['Max Temp'])\n",
    "plt.title('Northern City Latitude vs. Max Temperature (2/6/2021)')\n",
    "plt.xlabel('Latitude')\n",
    "plt.ylabel('Max Temperature (F)')\n",
    "plt.savefig('Northern_Hemisphere_Max_Temp_v_Latitude.png')\n",
    "#Regression\n",
    "reg = linregress(northern_df['Lat'],northern_df['Max Temp'])\n",
    "slope = reg[0]\n",
    "print(f'The regression line is y ={round(reg[0],2)}x + {round(reg[1],2)} and the r value is {round(reg[2],2)}')\n",
    "#Analysis\n",
    "#The code is analyzing how the temperature changes based on the latitude of the given city in the northern hemisphere.\n",
    "#The R value is negative becuase the temperature decreases as latitude increases, and we can see there is a strong\n",
    "#correlation as shown by the r value of 0.86"
   ]
  },
  {
   "cell_type": "markdown",
   "metadata": {},
   "source": [
    "####  Southern Hemisphere - Max Temp vs. Latitude Linear Regression"
   ]
  },
  {
   "cell_type": "code",
   "execution_count": 96,
   "metadata": {},
   "outputs": [
    {
     "name": "stdout",
     "output_type": "stream",
     "text": [
      "The regression line is y =0.38x + 81.46 and the r value is 0.53\n"
     ]
    },
    {
     "data": {
      "image/png": "[encoded data removed]",
      "text/plain": [
       "<Figure size 432x288 with 1 Axes>"
      ]
     },
     "metadata": {
      "needs_background": "light"
     },
     "output_type": "display_data"
    }
   ],
   "source": [
    "plt.scatter(southern_df['Lat'],southern_df['Max Temp'])\n",
    "plt.title('Southern City Latitude vs. Max Temperature (2/6/2021)')\n",
    "plt.xlabel('Latitude')\n",
    "plt.ylabel('Max Temperature (F)')\n",
    "plt.savefig('Southern_Hemisphere_Max_Temp_v_Latitude.png')\n",
    "#Regression\n",
    "reg = linregress(southern_df['Lat'],southern_df['Max Temp'])\n",
    "slope = reg[0]\n",
    "print(f'The regression line is y ={round(reg[0],2)}x + {round(reg[1],2)} and the r value is {round(reg[2],2)}')\n",
    "#Analysis\n",
    "#This is analyzing how the temperature changes as the latitude changes in the southern hemisphere\n",
    "#There is a moderate positive correlation between the southern latitudes and temperature as shown as the .53 r value"
   ]
  },
  {
   "cell_type": "markdown",
   "metadata": {},
   "source": [
    "####  Northern Hemisphere - Humidity (%) vs. Latitude Linear Regression"
   ]
  },
  {
   "cell_type": "code",
   "execution_count": 95,
   "metadata": {},
   "outputs": [
    {
     "name": "stdout",
     "output_type": "stream",
     "text": [
      "The regression line is y =0.29x + 59.7 and the r value is 0.31\n"
     ]
    },
    {
     "data": {
      "image/png": "[encoded data removed]",
      "text/plain": [
       "<Figure size 432x288 with 1 Axes>"
      ]
     },
     "metadata": {
      "needs_background": "light"
     },
     "output_type": "display_data"
    }
   ],
   "source": [
    "plt.scatter(northern_df['Lat'],northern_df['Humidity'])\n",
    "plt.title('Northern City Latitude vs. Humidity (2/6/2021)')\n",
    "plt.xlabel('Latitude')\n",
    "plt.ylabel('Humidity (%)')\n",
    "plt.savefig('Northern_Hemisphere_Humidity_v_Latitude.png')\n",
    "#Regression\n",
    "reg = linregress(northern_df['Lat'],northern_df['Humidity'])\n",
    "slope = reg[0]\n",
    "print(f'The regression line is y ={round(reg[0],2)}x + {round(reg[1],2)} and the r value is {round(reg[2],2)}')\n",
    "#Analysis\n",
    "#This is analyzing how the humidity changes as the latitude changes in the northern hemisphere\n",
    "#There is a low positive correlation between the northern latitudes and humidity as shown as the .31 r value"
   ]
  },
  {
   "cell_type": "markdown",
   "metadata": {},
   "source": [
    "####  Southern Hemisphere - Humidity (%) vs. Latitude Linear Regression"
   ]
  },
  {
   "cell_type": "code",
   "execution_count": 97,
   "metadata": {},
   "outputs": [
    {
     "name": "stdout",
     "output_type": "stream",
     "text": [
      "The regression line is y =0.36x + 83.39 and the r value is 0.31\n"
     ]
    },
    {
     "data": {
      "image/png": "[encoded data removed]",
      "text/plain": [
       "<Figure size 432x288 with 1 Axes>"
      ]
     },
     "metadata": {
      "needs_background": "light"
     },
     "output_type": "display_data"
    }
   ],
   "source": [
    "plt.scatter(southern_df['Lat'],southern_df['Humidity'])\n",
    "plt.title('Southern City Latitude vs. Humidity (2/6/2021)')\n",
    "plt.xlabel('Latitude')\n",
    "plt.ylabel('Humidity (%)')\n",
    "plt.savefig('Southern_Hemisphere_Humidity_v_Latitude.png')\n",
    "#Regression\n",
    "reg = linregress(southern_df['Lat'],southern_df['Humidity'])\n",
    "slope = reg[0]\n",
    "print(f'The regression line is y ={round(reg[0],2)}x + {round(reg[1],2)} and the r value is {round(reg[2],2)}')\n",
    "#Analysis\n",
    "#This is analyzing how the humidity changes as the latitude changes in the southern hemisphere\n",
    "#There is a low positive correlation between the southern latitudes and humidity as shown as the .31 r value\n",
    "#This has the same r value as in the northern hemisphere which shows that the humidity seems to increase the same amount\n",
    "#whether or not the city is in the northern or southern hemisphere"
   ]
  },
  {
   "cell_type": "markdown",
   "metadata": {},
   "source": [
    "####  Northern Hemisphere - Cloudiness (%) vs. Latitude Linear Regression"
   ]
  },
  {
   "cell_type": "code",
   "execution_count": 98,
   "metadata": {},
   "outputs": [
    {
     "name": "stdout",
     "output_type": "stream",
     "text": [
      "The regression line is y =0.36x + 33.31 and the r value is 0.18\n"
     ]
    },
    {
     "data": {
      "image/png": "[encoded data removed]",
      "text/plain": [
       "<Figure size 432x288 with 1 Axes>"
      ]
     },
     "metadata": {
      "needs_background": "light"
     },
     "output_type": "display_data"
    }
   ],
   "source": [
    "plt.scatter(northern_df['Lat'],northern_df['Cloudiness'])\n",
    "plt.title('Northern City Latitude vs. Cloudiness (2/6/2021)')\n",
    "plt.xlabel('Latitude')\n",
    "plt.ylabel('Cloudiness (%)')\n",
    "plt.savefig('Northern_Hemisphere_Cloudiness_v_Latitude.png')\n",
    "#Regression\n",
    "reg = linregress(northern_df['Lat'],northern_df['Cloudiness'])\n",
    "slope = reg[0]\n",
    "print(f'The regression line is y ={round(reg[0],2)}x + {round(reg[1],2)} and the r value is {round(reg[2],2)}')\n",
    "#Analysis\n",
    "#This is analyzing how the cloudiness changes as the latitude changes in the northern hemisphere\n",
    "#There is no correlation between the northern latitudes and cloudiness as shown as the very low r value of .18"
   ]
  },
  {
   "cell_type": "markdown",
   "metadata": {},
   "source": [
    "####  Southern Hemisphere - Cloudiness (%) vs. Latitude Linear Regression"
   ]
  },
  {
   "cell_type": "code",
   "execution_count": 99,
   "metadata": {},
   "outputs": [
    {
     "name": "stdout",
     "output_type": "stream",
     "text": [
      "The regression line is y =1.11x + 74.59 and the r value is 0.37\n"
     ]
    },
    {
     "data": {
      "image/png": "[encoded data removed]",
      "text/plain": [
       "<Figure size 432x288 with 1 Axes>"
      ]
     },
     "metadata": {
      "needs_background": "light"
     },
     "output_type": "display_data"
    }
   ],
   "source": [
    "plt.scatter(southern_df['Lat'],southern_df['Cloudiness'])\n",
    "plt.title('Southern City Latitude vs. Cloudiness (2/6/2021)')\n",
    "plt.xlabel('Latitude')\n",
    "plt.ylabel('Cloudiness (%)')\n",
    "plt.savefig('Southern_Hemisphere_Cloudiness_v_Latitude.png')\n",
    "#Regression\n",
    "reg = linregress(southern_df['Lat'],southern_df['Cloudiness'])\n",
    "slope = reg[0]\n",
    "print(f'The regression line is y ={round(reg[0],2)}x + {round(reg[1],2)} and the r value is {round(reg[2],2)}')\n",
    "#Analysis\n",
    "#This is analyzing how the cloudiness changes as the latitude changes in the southern hemisphere\n",
    "#There is a very weak positive correlation between the southern latitudes and cloudiness as shown as the very low r value of .37"
   ]
  },
  {
   "cell_type": "markdown",
   "metadata": {},
   "source": [
    "####  Northern Hemisphere - Wind Speed (mph) vs. Latitude Linear Regression"
   ]
  },
  {
   "cell_type": "code",
   "execution_count": 100,
   "metadata": {},
   "outputs": [
    {
     "name": "stdout",
     "output_type": "stream",
     "text": [
      "The regression line is y =0.05x + 7.15 and the r value is 0.15\n"
     ]
    },
    {
     "data": {
      "image/png": "[encoded data removed]",
      "text/plain": [
       "<Figure size 432x288 with 1 Axes>"
      ]
     },
     "metadata": {
      "needs_background": "light"
     },
     "output_type": "display_data"
    }
   ],
   "source": [
    "plt.scatter(northern_df['Lat'],northern_df['Wind Speed'])\n",
    "plt.title('Northern City Latitude vs. Wind Speed (2/6/2021)')\n",
    "plt.xlabel('Latitude')\n",
    "plt.ylabel('Wind Speed (mph)')\n",
    "plt.savefig('Northern_Hemisphere_Wind_Speed_v_Latitude.png')\n",
    "#Regression\n",
    "reg = linregress(northern_df['Lat'],northern_df['Wind Speed'])\n",
    "slope = reg[0]\n",
    "print(f'The regression line is y ={round(reg[0],2)}x + {round(reg[1],2)} and the r value is {round(reg[2],2)}')\n",
    "#Analysis\n",
    "#This is analyzing how the wind speed changes as the latitude changes in the northern hemisphere\n",
    "#There is no correlation between the northern latitudes and wind speed as shown as the very low r value of .15"
   ]
  },
  {
   "cell_type": "markdown",
   "metadata": {},
   "source": [
    "####  Southern Hemisphere - Wind Speed (mph) vs. Latitude Linear Regression"
   ]
  },
  {
   "cell_type": "code",
   "execution_count": 101,
   "metadata": {},
   "outputs": [
    {
     "name": "stdout",
     "output_type": "stream",
     "text": [
      "The regression line is y =-0.13x + 5.05 and the r value is -0.33\n"
     ]
    },
    {
     "data": {
      "image/png": "[encoded data removed]",
      "text/plain": [
       "<Figure size 432x288 with 1 Axes>"
      ]
     },
     "metadata": {
      "needs_background": "light"
     },
     "output_type": "display_data"
    }
   ],
   "source": [
    "plt.scatter(southern_df['Lat'],southern_df['Wind Speed'])\n",
    "plt.title('Southern City Latitude vs. Wind Speed (2/6/2021)')\n",
    "plt.xlabel('Latitude')\n",
    "plt.ylabel('Wind Speed (mph)')\n",
    "plt.savefig('Southern_Hemisphere_Wind_Speed_v_Latitude.png')\n",
    "#Regression\n",
    "reg = linregress(southern_df['Lat'],southern_df['Wind Speed'])\n",
    "slope = reg[0]\n",
    "print(f'The regression line is y ={round(reg[0],2)}x + {round(reg[1],2)} and the r value is {round(reg[2],2)}')\n",
    "#Analysis\n",
    "#This is analyzing how the wind speed changes as the latitude changes in the southern hemisphere\n",
    "#There is a weak negative correlation between the southern latitudes and wind speed as shown as the low r value of -0.33"
   ]
  },
  {
   "cell_type": "code",
   "execution_count": null,
   "metadata": {},
   "outputs": [],
   "source": []
  }
 ],
 "metadata": {
  "anaconda-cloud": {},
  "kernel_info": {
   "name": "python3"
  },
  "kernelspec": {
   "display_name": "Python 3",
   "language": "python",
   "name": "python3"
  },
  "language_info": {
   "codemirror_mode": {
    "name": "ipython",
    "version": 3
   },
   "file_extension": ".py",
   "mimetype": "text/x-python",
   "name": "python",
   "nbconvert_exporter": "python",
   "pygments_lexer": "ipython3",
   "version": "3.8.3"
  },
  "latex_envs": {
   "LaTeX_envs_menu_present": true,
   "autoclose": false,
   "autocomplete": true,
   "bibliofile": "biblio.bib",
   "cite_by": "apalike",
   "current_citInitial": 1,
   "eqLabelWithNumbers": true,
   "eqNumInitial": 1,
   "hotkeys": {
    "equation": "Ctrl-E",
    "itemize": "Ctrl-I"
   },
   "labels_anchors": false,
   "latex_user_defs": false,
   "report_style_numbering": false,
   "user_envs_cfg": false
  },
  "nteract": {
   "version": "0.12.3"
  }
 },
 "nbformat": 4,
 "nbformat_minor": 4
}
